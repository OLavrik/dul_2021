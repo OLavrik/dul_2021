{
  "nbformat": 4,
  "nbformat_minor": 0,
  "metadata": {
    "colab": {
      "name": "Copy of Homework12_semisupervised.ipynb",
      "provenance": [],
      "collapsed_sections": []
    },
    "kernelspec": {
      "name": "python3",
      "display_name": "Python 3"
    },
    "language_info": {
      "name": "python"
    },
    "accelerator": "GPU"
  },
  "cells": [
    {
      "cell_type": "code",
      "source": [
        "!if [ -d dul_2021 ]; then rm -Rf dul_2021; fi\n",
        "!git clone https://github.com/GrigoryBartosh/dul_2021\n",
        "!pip install ./dul_2021"
      ],
      "metadata": {
        "id": "vEPPrGksax7-",
        "colab": {
          "base_uri": "https://localhost:8080/"
        },
        "outputId": "930bf068-70e8-4e4d-8c54-b59dc135f6bc"
      },
      "execution_count": 2,
      "outputs": [
        {
          "output_type": "stream",
          "name": "stdout",
          "text": [
            "Cloning into 'dul_2021'...\n",
            "remote: Enumerating objects: 384, done.\u001b[K\n",
            "remote: Counting objects: 100% (221/221), done.\u001b[K\n",
            "remote: Compressing objects: 100% (147/147), done.\u001b[K\n",
            "remote: Total 384 (delta 124), reused 100 (delta 67), pack-reused 163\u001b[K\n",
            "Receiving objects: 100% (384/384), 55.90 MiB | 13.25 MiB/s, done.\n",
            "Resolving deltas: 100% (181/181), done.\n",
            "Processing ./dul_2021\n",
            "\u001b[33m  DEPRECATION: A future pip version will change local packages to be built in-place without first copying to a temporary directory. We recommend you use --use-feature=in-tree-build to test your packages with this new behavior before it becomes the default.\n",
            "   pip 21.3 will remove support for this functionality. You can find discussion regarding this at https://github.com/pypa/pip/issues/7555.\u001b[0m\n",
            "Building wheels for collected packages: dul-2021\n",
            "  Building wheel for dul-2021 (setup.py) ... \u001b[?25l\u001b[?25hdone\n",
            "  Created wheel for dul-2021: filename=dul_2021-0.1.0-py3-none-any.whl size=27640 sha256=a3f83aaad77371da28d12fe710306e127a8946f2b11505ce32b9cd5acd07ab0f\n",
            "  Stored in directory: /tmp/pip-ephem-wheel-cache-bkj51edx/wheels/55/59/29/0fb1c635652157734f4d741f32fc11979149684e83e919de06\n",
            "Successfully built dul-2021\n",
            "Installing collected packages: dul-2021\n",
            "Successfully installed dul-2021-0.1.0\n"
          ]
        }
      ]
    },
    {
      "cell_type": "code",
      "source": [
        "from dul_2021.utils.hw12_utils import *"
      ],
      "metadata": {
        "id": "VUu3B_L7azpr"
      },
      "execution_count": 6,
      "outputs": []
    },
    {
      "cell_type": "markdown",
      "source": [
        "# Question 1. VAT\n",
        "\n",
        "Here we will implement [VAT](https://arxiv.org/pdf/1704.03976.pdf).\n",
        "\n",
        "* Train labeled data with standatd cross-entropy loss\n",
        "\n",
        "* Use vat regularization for both unlabeled and labeled data\n",
        "\n",
        "* You can use architecture from practice\n",
        "\n",
        "* Dataset comes as pairs `x, y`. `x` is an image from CIFAR10. `y` is a label from `[0, 10]` if datapoint is labeled and `-1` otherwise.\n",
        "\n",
        "**Hyperparameters**\n",
        "\n",
        "* ξ= 10 \n",
        "* lr = 5e-4\n",
        "* num_epochs = 15\n",
        "\n",
        "\n",
        "\n",
        "**You will provide the following deliverables**\n",
        "\n",
        "\n",
        "1. Over the course of training, record loss ber batch.\n",
        "2. After each epoch calculate accuracy on test data."
      ],
      "metadata": {
        "id": "qo4zHxLOv5rX"
      }
    },
    {
      "cell_type": "code",
      "source": [
        "import contextlib\n",
        "import torch\n",
        "from torch import nn\n",
        "from torch.nn import functional as F\n",
        "from torch.optim import AdamW\n",
        "from torch.utils.data import DataLoader\n",
        "from torchvision.transforms import transforms\n",
        "\n",
        "device = torch.device(\"cuda\" if torch.cuda.is_available() else \"cpu\")\n",
        "\n",
        "\n",
        "class Block(nn.Module):\n",
        "    def __init__(self, in_ch, out_ch, stride):\n",
        "        super().__init__()\n",
        "        self.conv = nn.Conv2d(in_ch, out_ch, (3, 3), stride=stride, padding=1)\n",
        "        self.norm = nn.BatchNorm2d(out_ch)\n",
        "        self.dropout = nn.Dropout(0.4)\n",
        "        self.act = nn.LeakyReLU(0.3)\n",
        "\n",
        "    def forward(self, x):\n",
        "        return self.act(self.dropout(self.norm(self.conv(x))))\n",
        "\n",
        "\n",
        "class ImageClassifier(nn.Module):\n",
        "    def __init__(self, n_classes, latent_dim=128):\n",
        "        super().__init__()\n",
        "        self.blocks = nn.Sequential(\n",
        "            Block(3, 16, stride=2),\n",
        "            Block(16, 32, stride=2),\n",
        "            Block(32, 64, stride=2),\n",
        "            Block(64, 128, stride=2),\n",
        "            Block(128, 128, stride=2).conv,\n",
        "        )\n",
        "        self.linear = nn.Linear(128, latent_dim)\n",
        "        self.batch_norm = nn.BatchNorm1d(latent_dim)\n",
        "        self.leaky_relu = nn.LeakyReLU(1e-2)\n",
        "        self.classifier = nn.Linear(latent_dim, n_classes)\n",
        "\n",
        "    def forward(self, batched_images):\n",
        "        convolved = self.blocks(batched_images)\n",
        "        encoded = self.linear(convolved.view(batched_images.shape[0], -1))\n",
        "        hidden = self.leaky_relu(self.batch_norm(encoded))\n",
        "        return self.classifier(hidden)\n",
        "\n",
        "\n",
        "class SemiSupervisedTrainer:\n",
        "    def __init__(self, n_classes: int, latent_dim: int = 128, u_loss_weight: float = 1.0):\n",
        "        self.model = ImageClassifier(n_classes, latent_dim).to(device)\n",
        "        self.u_loss_weight = u_loss_weight\n",
        "\n",
        "    def test(self, dataloader: DataLoader):\n",
        "        self.model.eval()\n",
        "        n_correct = 0\n",
        "        total = 0\n",
        "        for img, y in dataloader:\n",
        "            img = img.to(device)\n",
        "            y = y.to(device)\n",
        "            with torch.no_grad():\n",
        "                y_pred = self.model(img).argmax(dim=-1)\n",
        "                n_correct += (y == y_pred).sum().item()\n",
        "                total += y.shape[0]\n",
        "        return n_correct / total\n",
        "\n",
        "    def unlabeled_loss(self, batched_images):\n",
        "        raise NotImplementedError()\n",
        "\n",
        "    def fit(self, train_dataloader, test_dataloader, n_epochs, lr=1e-3):\n",
        "        optim = AdamW(self.model.parameters(), lr=lr)\n",
        "\n",
        "        train_losses = []\n",
        "        test_scores = [self.test(test_dataloader)]\n",
        "\n",
        "        for i in range(n_epochs):\n",
        "            postfix = {}\n",
        "            self.model.train()\n",
        "            for img, y in train_dataloader:\n",
        "                img = img.to(device)\n",
        "                y = y.to(device)\n",
        "\n",
        "                unsupervised_loss = self.unlabeled_loss(img)\n",
        "\n",
        "                labeled = y != -1\n",
        "                model_output = self.model(img[labeled])\n",
        "                ce_loss = F.cross_entropy(model_output, y[labeled])\n",
        "\n",
        "                loss = ce_loss + self.u_loss_weight * unsupervised_loss\n",
        "\n",
        "                optim.zero_grad()\n",
        "                torch.nn.utils.clip_grad_norm_(self.model.parameters(), 5)\n",
        "                loss.backward()\n",
        "                optim.step()\n",
        "\n",
        "                train_losses.append(loss.item())\n",
        "                postfix[\"loss\"] = train_losses[-1]\n",
        "\n",
        "            test_scores.append(self.test(test_dataloader))\n",
        "        return train_losses, test_scores\n",
        "\n",
        "\n",
        "class VAT(SemiSupervisedTrainer):\n",
        "    def __init__(self, n_classes, latent_dim=128, xi=10, alpha=1.0):\n",
        "        super().__init__(n_classes, latent_dim, alpha)\n",
        "        self.xi = xi\n",
        "\n",
        "    @staticmethod\n",
        "    @contextlib.contextmanager\n",
        "    def _disable_tracking_bn_stats(model):\n",
        "        def switch_attr(m):\n",
        "            if hasattr(m, \"track_running_stats\"):\n",
        "                m.track_running_stats ^= True\n",
        "\n",
        "        model.apply(switch_attr)\n",
        "        yield\n",
        "        model.apply(switch_attr)\n",
        "\n",
        "    def unlabeled_loss(self, batched_images: torch.Tensor):\n",
        "        with torch.no_grad():\n",
        "            pred = F.softmax(self.model(batched_images), dim=1)\n",
        "\n",
        "        d = torch.normal(mean=0, std=1, size=batched_images.shape, device=device, requires_grad=True)\n",
        "\n",
        "        with self._disable_tracking_bn_stats(self.model):\n",
        "            pred_hat = self.model(batched_images + self.xi * d)\n",
        "            logp_hat = F.log_softmax(pred_hat, dim=1)\n",
        "            adv_distance = F.kl_div(logp_hat, pred, reduction=\"batchmean\")\n",
        "\n",
        "            adv_distance.backward()\n",
        "            r_adv = F.normalize(d.grad, dim=(1, 2, 3))\n",
        "            self.model.zero_grad()\n",
        "\n",
        "            pred_hat = self.model(batched_images + r_adv)\n",
        "            logp_hat = F.log_softmax(pred_hat, dim=1)\n",
        "            lds = F.kl_div(logp_hat, pred, reduction=\"batchmean\")\n",
        "\n",
        "        return lds\n",
        "\n"
      ],
      "metadata": {
        "id": "GYbd0YgWp4xw"
      },
      "execution_count": 19,
      "outputs": []
    },
    {
      "cell_type": "code",
      "source": [
        "def q1(train_data, test_data):\n",
        "    \"\"\"\n",
        "    train_data: An (n_train, 3, 32, 32) torchvision dataset of CIFAR10 images with values from -1 to 1\n",
        "\n",
        "    Returns\n",
        "    - a (# of training iterations, ) numpy array  losses on each iteration\n",
        "    - a (# of training epochs, ) numpy array accuracies on each epoch\n",
        "    \"\"\"\n",
        "    train_dataloader = DataLoader(train_data, batch_size=256, shuffle=True)\n",
        "    test_dataloader = DataLoader(test_data, batch_size=256)\n",
        "\n",
        "    vat = VAT(10, latent_dim=256)\n",
        "    return vat.fit(train_dataloader, test_dataloader, n_epochs=15, lr=1e-4)"
      ],
      "metadata": {
        "id": "v3neKPxpZImJ"
      },
      "execution_count": 20,
      "outputs": []
    },
    {
      "cell_type": "code",
      "source": [
        "q12_results(q1)"
      ],
      "metadata": {
        "colab": {
          "base_uri": "https://localhost:8080/",
          "height": 607
        },
        "id": "saxnnzOCzkMx",
        "outputId": "3a58e10d-6add-47fc-b152-2508e87dfd14"
      },
      "execution_count": 21,
      "outputs": [
        {
          "output_type": "stream",
          "name": "stdout",
          "text": [
            "Files already downloaded and verified\n",
            "Files already downloaded and verified\n"
          ]
        },
        {
          "output_type": "display_data",
          "data": {
            "image/png": "[encoded data removed]",
            "text/plain": [
              "<Figure size 432x288 with 1 Axes>"
            ]
          },
          "metadata": {
            "needs_background": "light"
          }
        },
        {
          "output_type": "display_data",
          "data": {
            "image/png": "[encoded data removed]",
            "text/plain": [
              "<Figure size 432x288 with 1 Axes>"
            ]
          },
          "metadata": {
            "needs_background": "light"
          }
        }
      ]
    },
    {
      "cell_type": "code",
      "source": [
        ""
      ],
      "metadata": {
        "id": "pe5h3k7yZH_Q"
      },
      "execution_count": null,
      "outputs": []
    },
    {
      "cell_type": "markdown",
      "source": [
        "# Question 2. FixMatch\n",
        "\n",
        "Here we will implement [FixMatch](https://arxiv.org/abs/2001.07685).\n",
        "\n",
        "* Calculate loss on weakly augmented labeled data with standatd cross-entropy loss\n",
        "\n",
        "* Calculate loss on strongly augmented unlabeled data with standatd cross-entropy loss with pseudo-lables\n",
        "\n",
        "* Use SimCLR transformations as strong and RandomHorizontalFlip as weak\n",
        "\n",
        "* You can use architecture from practice\n",
        "\n",
        "* Dataset comes as pairs `x, y`. `x` is an image from CIFAR10. `y` is a label from `[0, 10]` if datapoint is labeled and `-1` otherwise.\n",
        "\n",
        "**Hyperparameters**\n",
        "\n",
        "* τ = 0.7 \n",
        "* λ_u = 10 (weight of unlabeled loss)\n",
        "* lr = 5e-4\n",
        "* num_epochs ~ 20 or more\n",
        "\n",
        "\n",
        "\n",
        "**You will provide the following deliverables**\n",
        "\n",
        "\n",
        "1. Over the course of training, record loss ber batch.\n",
        "2. After each epoch calculate accuracy on test data."
      ],
      "metadata": {
        "id": "zxgc1UFd_cpi"
      }
    },
    {
      "cell_type": "code",
      "source": [
        "\n",
        "class FixMatch(SemiSupervisedTrainer):\n",
        "    def __init__(self, n_classes, latent_dim=128, tau=0.95, lambda_u=1):\n",
        "        super().__init__(n_classes, latent_dim, lambda_u)\n",
        "        self.tau = tau\n",
        "\n",
        "        self.strong_transforms = transforms.Compose(\n",
        "            [\n",
        "                transforms.RandomHorizontalFlip(),\n",
        "                transforms.RandomResizedCrop(size=32),\n",
        "                transforms.RandomApply(\n",
        "                    [transforms.ColorJitter(brightness=0.5, contrast=0.5, saturation=0.5, hue=0.1)], p=0.8\n",
        "                ),\n",
        "                transforms.RandomGrayscale(0.2),\n",
        "                transforms.Normalize((0.5,), (0.5,)),\n",
        "            ]\n",
        "        )\n",
        "        self.weak_transforms = transforms.Compose([transforms.RandomHorizontalFlip(), transforms.RandomVerticalFlip()])\n",
        "\n",
        "    def unlabeled_loss(self, batched_images):\n",
        "        with torch.no_grad():\n",
        "            logits = self.model(self.weak_transforms(batched_images))\n",
        "            probs = F.softmax(logits, dim=-1)\n",
        "            confidence, pseudo_target = torch.max(probs, dim=-1)\n",
        "            mask = confidence >= self.tau\n",
        "        if mask.sum() == 0:\n",
        "            return 0\n",
        "        strong_out = self.model(self.strong_transforms(batched_images))\n",
        "        loss = F.cross_entropy(strong_out[mask], pseudo_target[mask])\n",
        "        return loss"
      ],
      "metadata": {
        "id": "X0wH2nnM4hhq"
      },
      "execution_count": 22,
      "outputs": []
    },
    {
      "cell_type": "code",
      "source": [
        "def q2(train_data, test_data):\n",
        "    \"\"\"\n",
        "    train_data: An (n_train, 3, 32, 32) torchvision dataset of CIFAR10 images with values from -1 to 1\n",
        "\n",
        "    Returns\n",
        "    - a (# of training iterations, ) numpy array  losses on each iteration\n",
        "    - a (# of training epochs, ) numpy array accuracies on each epoch\n",
        "    \"\"\"\n",
        "    train_dataloader = DataLoader(train_data, batch_size=256, shuffle=True)\n",
        "    test_dataloader = DataLoader(test_data, batch_size=256)\n",
        "\n",
        "    fix_match = FixMatch(10, latent_dim=128)\n",
        "\n",
        "    return fix_match.fit(train_dataloader, test_dataloader, n_epochs=10, lr=1e-4)"
      ],
      "metadata": {
        "id": "UZGq-KG9abw3"
      },
      "execution_count": 23,
      "outputs": []
    },
    {
      "cell_type": "code",
      "source": [
        "q12_results(q2)"
      ],
      "metadata": {
        "id": "ePG4-hS0abw_",
        "colab": {
          "base_uri": "https://localhost:8080/",
          "height": 607
        },
        "outputId": "e7ea070f-e1d5-4688-f0cd-fdc79c602e89"
      },
      "execution_count": 24,
      "outputs": [
        {
          "output_type": "stream",
          "name": "stdout",
          "text": [
            "Files already downloaded and verified\n",
            "Files already downloaded and verified\n"
          ]
        },
        {
          "output_type": "display_data",
          "data": {
            "image/png": "[encoded data removed]",
            "text/plain": [
              "<Figure size 432x288 with 1 Axes>"
            ]
          },
          "metadata": {
            "needs_background": "light"
          }
        },
        {
          "output_type": "display_data",
          "data": {
            "image/png": "[encoded data removed]",
            "text/plain": [
              "<Figure size 432x288 with 1 Axes>"
            ]
          },
          "metadata": {
            "needs_background": "light"
          }
        }
      ]
    },
    {
      "cell_type": "code",
      "source": [
        ""
      ],
      "metadata": {
        "id": "mzVcaBqkdd6s"
      },
      "execution_count": null,
      "outputs": []
    },
    {
      "cell_type": "markdown",
      "source": [
        "# Bonus\n",
        "\n",
        "## The probabilistic model\n",
        "\n",
        "*(this is a short summary of the model presented in [\"Semi-supervised Learning with\n",
        "Deep Generative Models\"](https://arxiv.org/pdf/1406.5298.pdf))*\n",
        "\n",
        "In the semi-supervised setting, the generative model is a little more complicated than vanilla VAE. In particular, it incorporates a new variable $y$ that represents the class of a digit $x$.\n",
        "\n",
        "\\begin{align*}\n",
        "& p(x, y, z) = p(x \\mid y, z) p(z) p(y) \\\\\n",
        "& p(y) = Cat(y \\mid \\pi_0), \\pi_0 = (1/10, \\dots, 1/10) \\\\\n",
        "& p(z) = \\mathcal N(z \\mid 0, I) \\\\\n",
        "& p(x \\mid y, z) = \\prod_{i=1}^D p_i(y, z)^{x_i} (1 - p_i(y, z))^{1 - x_i}\n",
        "\\end{align*}\n",
        "\n",
        "## The first part of the objective\n",
        "\n",
        "Whenever we train a probabilistic model with partial observations, we interpret the unobserved variables as latent variables. Then we marginalize them. In this case, the loss function splits into two terms: one for observed variables (we denote the set of indices of observed labels $P$), another for unobserved.\n",
        "\n",
        "\\begin{equation}\n",
        "L(X, y) = \\sum_{i \\notin P} \\log p(x_i) + \\sum_{i \\in P} \\log p(x_i, y_i)\n",
        "\\end{equation}\n",
        "\n",
        "Again, we can't compute the exact values of marginal likelihoods and resort to variational lower bound on likelihood. To compute lower bounds, we define the following variational approximation:\n",
        "\n",
        "\\begin{align*}\n",
        "& q(y, z \\mid x) = q(y \\mid x) q(z \\mid y, x)\\\\\n",
        "& \\\\\n",
        "& q(y \\mid x) = Cat(y \\mid \\pi(x))\\\\\n",
        "& q(z \\mid y, x) = \\mathcal N(z \\mid \\mu_\\phi(x, y), \\operatorname{diag}\\sigma^2_\\phi(y, x))\n",
        "\\end{align*}\n",
        "\n",
        "Using the variational approximation, we will obtain two lower bounds.\n",
        "\n",
        "First, the ELBO for $\\log p(x_i, y_i)$ for the observed variables (this one is similar to ELBO of VAE).\n",
        "\n",
        "\\begin{equation}\n",
        "\\log p(x, y) = \\log \\mathbb E_{p(z)} p(x, y \\mid z) \\geq \\mathbb E_{q(z \\mid y, x)} \\log \\frac{p(x, y \\mid z) p(z)}{q(z \\mid y, x)}\n",
        "\\end{equation}\n",
        "\n",
        "Second, the ELBO for $\\log p(x_i)$ for the unobserved variables.\n",
        "\n",
        "\\begin{equation}\n",
        "\\log p(x) = \\log \\mathbb E_{p(y)} \\mathbb E_{p(z \\mid y)} \\log p(x\\mid z, y)\\geq \\mathbb E_{q(y \\mid x)} \\mathbb E_{q(z \\mid y, x)} \\log \\frac{p(x, y \\mid z) p(z)}{q(z \\mid y, x) q(y \\mid x)}\n",
        "\\end{equation}\n",
        "\n",
        "Finally, the joint lower bound will be\n",
        "\n",
        "\\begin{equation}\n",
        "\\mathcal L(X, y) = \\sum_{i \\in P} \\mathbb E_{q(z_i \\mid y_i, x_i)} \\log \\frac{p(x_i, y_i \\mid z_i) p(z_i)}{q(z_i \\mid y_i, x_i)} + \\sum_{i \\notin P} \\mathbb E_{q(y_i \\mid x_i)} \\mathbb E_{q(z_i \\mid y_i, x_i)} \\log \\frac{p(x_i, y_i \\mid z_i) p(z_i)}{q(z_i \\mid y_i, x_i) q(y_i \\mid x_i)}\n",
        "\\end{equation}\n",
        "\n",
        "We will use reparametrized Monte-Carlo estimates to approximate expectation w.r.t. $z$. To approximate expectaion w.r.t. the discrete variable $y$ we will try three different options."
      ],
      "metadata": {
        "id": "70Ckao5QSblC"
      }
    },
    {
      "cell_type": "code",
      "source": [
        "def b(train_data, test_data):\n",
        "    \"\"\"\n",
        "    train_data: An (n_train, 1, 28, 28) torchvision dataset of binary MNIST images\n",
        "    Returns\n",
        "    - a (# of training iterations, ) numpy array  losses on each iteration\n",
        "    - a (# of training epochs, ) numpy array accuracies on each epoch\n",
        "    \"\"\""
      ],
      "metadata": {
        "id": "opRfI5beScTp"
      },
      "execution_count": null,
      "outputs": []
    }
  ]
}